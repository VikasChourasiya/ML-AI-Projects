{
 "cells": [
  {
   "cell_type": "markdown",
   "id": "e4d6a127-06b5-4de3-9dd3-99596778c124",
   "metadata": {},
   "source": [
    "## GUI House Predict System"
   ]
  },
  {
   "cell_type": "code",
   "execution_count": 2,
   "id": "01787fe2-7c6f-40ac-9cf4-61f22a759c6d",
   "metadata": {},
   "outputs": [],
   "source": [
    "import tkinter as tk\n",
    "import pandas as pd"
   ]
  },
  {
   "cell_type": "code",
   "execution_count": 3,
   "id": "7527b8b5-91f5-4760-bfd8-4efa9c9f527a",
   "metadata": {},
   "outputs": [],
   "source": [
    "app = tk.Tk()\n",
    "app.geometry('400x400')\n",
    "app.title('Real-estate House Price Predictor Model')\n",
    "app.config(bg='grey')\n",
    "\n",
    "\n",
    "def price_pred():\n",
    "    inc = ginc.get()\n",
    "    age = gage.get()\n",
    "    room = groom.get()\n",
    "    pop = gpop.get()\n",
    "    m = pd.read_pickle('house_price_predictor.pkl')\n",
    "    query = pd.DataFrame({'Income':[inc],'house_age':[age],'Room':[room],'Population':[pop]})\n",
    "    #query\n",
    "    gprice.set( round(m.predict(query)[0],2))\n",
    "\n",
    "gprice = tk.Variable()\n",
    "ginc = tk.Variable()\n",
    "gage = tk.Variable()\n",
    "groom = tk.Variable()\n",
    "gpop = tk.Variable()\n",
    "\n",
    "tk.Label(app, text='Income').place(x=30,y=30, width=60,height=30)\n",
    "tk.Entry(app, textvariable=ginc).place(x=100,y=30, width=250,height=30)\n",
    "\n",
    "tk.Label(app, text='Age').place(x=30,y=70, width=60,height=30)\n",
    "tk.Entry(app, textvariable=gage).place(x=100,y=70, width=250,height=30)\n",
    "\n",
    "tk.Label(app, text='Rooms').place(x=30,y=110, width=60,height=30)\n",
    "tk.Entry(app, textvariable=groom).place(x=100,y=110, width=250,height=30)\n",
    "\n",
    "tk.Label(app, text='Population').place(x=30,y=150, width=60,height=30)\n",
    "tk.Entry(app, textvariable=gpop).place(x=100,y=150, width=250,height=30)\n",
    "\n",
    "tk.Label(app, text='Price').place(x=30,y=230, width=60,height=30)\n",
    "tk.Label(app, textvariable=gprice).place(x=100,y=230, width=250,height=30)\n",
    "\n",
    "tk.Button(app, text = 'Predict Sell Price', command=price_pred).place(x=100,y=300, width=150,height=30)\n",
    "\n",
    "app.mainloop()"
   ]
  },
  {
   "cell_type": "code",
   "execution_count": null,
   "id": "532cf0f9-d893-4fda-804d-0bff95c63a23",
   "metadata": {},
   "outputs": [],
   "source": []
  },
  {
   "cell_type": "code",
   "execution_count": null,
   "id": "06dc3141-3785-4d10-900a-d20b272c1d90",
   "metadata": {},
   "outputs": [],
   "source": []
  }
 ],
 "metadata": {
  "kernelspec": {
   "display_name": "Python 3",
   "language": "python",
   "name": "python3"
  },
  "language_info": {
   "codemirror_mode": {
    "name": "ipython",
    "version": 3
   },
   "file_extension": ".py",
   "mimetype": "text/x-python",
   "name": "python",
   "nbconvert_exporter": "python",
   "pygments_lexer": "ipython3",
   "version": "3.8.8"
  }
 },
 "nbformat": 4,
 "nbformat_minor": 5
}
