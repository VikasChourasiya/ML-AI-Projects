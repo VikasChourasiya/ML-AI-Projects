{
 "cells": [
  {
   "cell_type": "code",
   "execution_count": 1,
   "id": "ef1ecaf4-b124-4696-9e7c-038b1e40f87a",
   "metadata": {},
   "outputs": [],
   "source": [
    "import cv2\n",
    "import pandas as pd\n",
    "import matplotlib.pyplot as plt\n",
    "from time import sleep"
   ]
  },
  {
   "cell_type": "code",
   "execution_count": null,
   "id": "a4bb5b04-ed07-4160-a48a-705475678138",
   "metadata": {},
   "outputs": [],
   "source": [
    "cap = cv2.VideoCapture(0)\n",
    "fd = cv2.CascadeClassifier('data/haarcascades/haarcascade_frontalface_default.xml')\n",
    "sd = cv2.CascadeClassifier('data/haarcascades/haarcascade_smile.xml')\n",
    "while True:\n",
    "    r, image = cap.read()\n",
    "    if r:\n",
    "        igray = cv2.cvtColor(image, cv2.COLOR_BGR2GRAY)\n",
    "        smiles = []        \n",
    "        faces = fd.detectMultiScale(igray, 1.1, 4)\n",
    "        if len(faces):\n",
    "            for x,y,w,h in faces:\n",
    "                cv2.rectangle(image,(x,y), (x+w, y+h), (255,0,0),2)\n",
    "                cv2.imwrite('selfie.png',image[y:y+h, x:x+w,:])\n",
    "                smiles = sd.detectMultiScale(image[y:y+h, x:x+w,:],1.1,4)\n",
    "                for x1,y1,w1,h1 in smiles:\n",
    "                    cv2.rectangle(image[y:y+h, x:x+w,:],(x1,y1), (x1+w1, y1+h1), (0,0,255),2)\n",
    "                cv2.imshow('preview',image[y:y+h, x:x+w,:])\n",
    "                break\n",
    "        else:\n",
    "            cv2.imshow('preview',image)\n",
    "        k = cv2.waitKey(1) & 0xff\n",
    "        if k == 1:\n",
    "            break\n",
    "    sleep(0.1)\n",
    "cap.release()\n",
    "cv2.destroyAllWindows()"
   ]
  }
 ],
 "metadata": {
  "kernelspec": {
   "display_name": "Python 3",
   "language": "python",
   "name": "python3"
  },
  "language_info": {
   "codemirror_mode": {
    "name": "ipython",
    "version": 3
   },
   "file_extension": ".py",
   "mimetype": "text/x-python",
   "name": "python",
   "nbconvert_exporter": "python",
   "pygments_lexer": "ipython3",
   "version": "3.8.8"
  }
 },
 "nbformat": 4,
 "nbformat_minor": 5
}
