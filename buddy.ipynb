{
 "cells": [
  {
   "cell_type": "markdown",
   "id": "8bd03c5b-7f79-4a0b-8015-cd3c1e92ed9f",
   "metadata": {},
   "source": [
    "## Import Library"
   ]
  },
  {
   "cell_type": "code",
   "execution_count": 9,
   "id": "fb6f2ec6-05c1-421b-827d-899a693751ab",
   "metadata": {},
   "outputs": [],
   "source": [
    "import pyttsx3\n",
    "import speech_recognition as sr\n",
    "import datetime\n",
    "import os\n",
    "import webbrowser\n",
    "import sys\n",
    "import wikipedia\n",
    "import requests\n",
    "import pywhatkit\n",
    "import smtplib\n",
    "import pandas as pd"
   ]
  },
  {
   "cell_type": "markdown",
   "id": "a297e504-663c-4c99-b7f1-00af7bef7f88",
   "metadata": {},
   "source": [
    "## Voices"
   ]
  },
  {
   "cell_type": "code",
   "execution_count": 10,
   "id": "6b722ef3-dcbc-48e0-b7c9-05967aa024a0",
   "metadata": {},
   "outputs": [],
   "source": [
    "engine = pyttsx3.init('sapi5')\n",
    "voice = engine.getProperty('voices')\n",
    "engine.setProperty('voice',voice[0].id)"
   ]
  },
  {
   "cell_type": "markdown",
   "id": "f5aed084-a4e1-41d6-a0b1-7625c722b58a",
   "metadata": {},
   "source": [
    "## Speek Function"
   ]
  },
  {
   "cell_type": "code",
   "execution_count": 11,
   "id": "46a6ebe7-e303-4de5-8892-923928e48553",
   "metadata": {},
   "outputs": [],
   "source": [
    "def speak(audio):\n",
    "    engine.say(audio)\n",
    "    print(audio)\n",
    "    engine.runAndWait()"
   ]
  },
  {
   "cell_type": "markdown",
   "id": "9fc7b356-e9bd-45c5-bae0-d163eb27f6c5",
   "metadata": {},
   "source": [
    "## Speech to Text function"
   ]
  },
  {
   "cell_type": "code",
   "execution_count": 32,
   "id": "8cbda1c0-89c8-4366-b078-6eea65d8a24b",
   "metadata": {},
   "outputs": [],
   "source": [
    "def take_command():\n",
    "    r = sr.Recognizer()\n",
    "    with sr.Microphone(device_index=1) as source:\n",
    "        print('Listening......')\n",
    "        r.pause_threshold = 1\n",
    "        audio = r.listen(source)\n",
    "        \n",
    "    try:\n",
    "        print('Recognizing......')\n",
    "        query = r.recognize_google(audio, language='en-in')\n",
    "        print(f\"User Said:{query}\")\n",
    "    except Exception as e:\n",
    "        speak('Say that again.......')\n",
    "        return 'none'\n",
    "    return query\n"
   ]
  },
  {
   "cell_type": "markdown",
   "id": "38bcc475-ff1b-4e00-a4d3-02cf14f70492",
   "metadata": {},
   "source": [
    "## Wish Me function"
   ]
  },
  {
   "cell_type": "code",
   "execution_count": 33,
   "id": "d279a1a4-bdf4-4554-bdf5-1ed651ddd49f",
   "metadata": {},
   "outputs": [],
   "source": [
    "def wish_me():\n",
    "    hour = int(datetime.datetime.now().hour)\n",
    "    \n",
    "    if hour >= 0 and hour <= 12:\n",
    "        speak('Good Morning!')\n",
    "    elif hour > 12 and hour < 17:\n",
    "        speak('Good Afternoon!')\n",
    "    else:\n",
    "        speak('Good Evening!')\n",
    "    speak('I am Buddy, please tell me how may I help you')\n",
    "    "
   ]
  },
  {
   "cell_type": "markdown",
   "id": "d2b13ef2-475a-495e-a3c0-12c682644f29",
   "metadata": {},
   "source": [
    "## Mail Send Function"
   ]
  },
  {
   "cell_type": "code",
   "execution_count": 34,
   "id": "243989c2-62cd-414e-b4db-88ea8b9ecee3",
   "metadata": {},
   "outputs": [
    {
     "name": "stdout",
     "output_type": "stream",
     "text": [
      "Good Afternoon!\n",
      "I am Buddy, please tell me how may I help you\n",
      "Listening......\n",
      "Recognizing......\n",
      "User Said:no thanks\n",
      "Thank you sir for using me\n"
     ]
    },
    {
     "ename": "SystemExit",
     "evalue": "",
     "output_type": "error",
     "traceback": [
      "An exception has occurred, use %tb to see the full traceback.\n",
      "\u001b[1;31mSystemExit\u001b[0m\n"
     ]
    }
   ],
   "source": [
    "wish_me()\n",
    "while True:\n",
    "    query = take_command().lower()\n",
    "    \n",
    "    #open Notepad\n",
    "    if 'open notepad' in query:\n",
    "        npath = 'C:\\\\Windows\\\\System32\\\\notepad.exe'\n",
    "        os.startfile(npath)\n",
    "    \n",
    "    #Open CMD\n",
    "    elif 'open cmd' in query:\n",
    "        npath = 'C:\\\\Windows\\\\System32\\\\cmd.exe'\n",
    "        os.startfile(npath)\n",
    "        \n",
    "    #Open Anaconda Prompt    \n",
    "    elif 'open anaconda prompt' in query:\n",
    "        npath = 'C:\\\\Users\\\\hp\\\\AppData\\\\Roaming\\\\Microsoft\\\\Windows\\\\Start Menu\\\\Programs\\\\Anaconda3 (64-bit)\\\\Anaconda Prompt (anaconda3)'\n",
    "        os.startfile(npath)\n",
    "        \n",
    "    #Open Spyder\n",
    "    elif 'open spyder' in query:\n",
    "        npath = 'C:\\\\Users\\\\hp\\\\AppData\\\\Roaming\\\\Microsoft\\\\Windows\\\\Start Menu\\\\Programs\\\\Anaconda3 (64-bit)\\\\Spyder (anaconda3)'\n",
    "        os.startfile(npath)\n",
    "        \n",
    "    #Open Jupyter Notbook\n",
    "    elif 'open jupyter notebook' in query:\n",
    "        npath = 'C:\\\\Users\\\\hp\\\\AppData\\\\Roaming\\\\Microsoft\\\\Windows\\\\Start Menu\\\\Programs\\\\Anaconda3 (64-bit)\\\\Jupyter Notebook (anaconda3)'\n",
    "        os.startfile(npath)\n",
    "        \n",
    "    #Open Pycharm\n",
    "    elif 'open android studio' in query:\n",
    "        npath = 'C:\\\\ProgramData\\\\Microsoft\\\\Windows\\\\Start Menu\\\\Programs\\\\Android Studio\\\\Android Studio'\n",
    "        os.startfile(npath)\n",
    "    \n",
    "    #Search in Wikipedia\n",
    "    elif 'wikipedia' in query:\n",
    "        speak('Searching Wikipedia..')\n",
    "        query = query.replace('wikipedia','')\n",
    "        result = wikipedia.summary(query, sentences=2)\n",
    "        speak('According to wikipedia')\n",
    "        speak(result)\n",
    "        \n",
    "    #Open Youtube\n",
    "    elif 'open youtube' in query:\n",
    "        webbrowser.Chrome('C:\\Program Files (x86)\\Google\\Chrome\\Application\\chrome').open('youtube.com')\n",
    "        \n",
    "    #Open Google\n",
    "    elif 'open google' in query:\n",
    "        speak('Sir! What would you like to search')\n",
    "        search = take_command().lower()\n",
    "        webbrowser.Chrome('C:\\Program Files (x86)\\Google\\Chrome\\Application\\chrome').open(f'{search}')\n",
    "        \n",
    "    #Play Songs in youtube\n",
    "    elif 'play song' in query:\n",
    "        speak('sir! which song you would like to listine')\n",
    "        song = take_command().lower()\n",
    "        pywhatkit.playonyt(f'{song}')\n",
    "    \n",
    "    #send Message\n",
    "    elif 'send message' in query:\n",
    "        hour = datetime.datetime.now().hour\n",
    "        mint = datetime.datetime.now().minute\n",
    "        pywhatkit.sendwhatmsg('+917987288835','hello',hour,(mint+2),wait_time=5)\n",
    "        \n",
    "    elif 'no thanks' in query:\n",
    "        speak('Thank you sir for using me')\n",
    "        sys.exit()\n",
    "        \n",
    "    speak('sir,do you have some another work!')\n",
    "        \n",
    "    "
   ]
  },
  {
   "cell_type": "code",
   "execution_count": null,
   "id": "cce7d122-01d8-4e9d-ac33-8823423ae6f7",
   "metadata": {},
   "outputs": [],
   "source": []
  }
 ],
 "metadata": {
  "kernelspec": {
   "display_name": "Python 3",
   "language": "python",
   "name": "python3"
  },
  "language_info": {
   "codemirror_mode": {
    "name": "ipython",
    "version": 3
   },
   "file_extension": ".py",
   "mimetype": "text/x-python",
   "name": "python",
   "nbconvert_exporter": "python",
   "pygments_lexer": "ipython3",
   "version": "3.8.8"
  }
 },
 "nbformat": 4,
 "nbformat_minor": 5
}
