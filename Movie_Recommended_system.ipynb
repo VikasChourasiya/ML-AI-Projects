{
 "cells": [
  {
   "cell_type": "code",
   "execution_count": 1,
   "id": "9eed10a4-4f30-47e4-a6df-84adf1882e85",
   "metadata": {},
   "outputs": [],
   "source": [
    "import tkinter as tk\n",
    "import pandas as pd\n",
    "import warnings\n",
    "warnings.filterwarnings(\"ignore\")"
   ]
  },
  {
   "cell_type": "code",
   "execution_count": 2,
   "id": "19a0ed2d-befc-4321-94b6-e6532b804c4b",
   "metadata": {},
   "outputs": [],
   "source": [
    "#Data code\n",
    "df = pd.read_csv('ml-100k/u.data',sep='\\t',names=['user_id','item_id','rating','ts'])\n",
    "cols = \"item_id|title| release date | video release date |\\\n",
    "              IMDb URL | unknown | Action | Adventure | Animation |\\\n",
    "              Children's | Comedy | Crime | Documentary | Drama | Fantasy |\\\n",
    "              Film-Noir | Horror | Musical | Mystery | Romance | Sci-Fi |\\\n",
    "              Thriller | War | Western |\".split('|')\n",
    "movies = pd.read_csv('ml-100k/u.item',sep='|',names=cols)\n",
    "data = pd.merge(df.drop('ts',axis=1),movies[['item_id','title']], on='item_id')\n",
    "#avg_rates = data.groupby('title')['rating'].mean()\n",
    "rate_count = data.groupby('title')['rating'].count()\n",
    "df_pivot = data.pivot_table(index='user_id',columns='title',values='rating')\n"
   ]
  },
  {
   "cell_type": "code",
   "execution_count": 3,
   "id": "d6590fd1-ed92-4474-a3c7-ba48672804cf",
   "metadata": {},
   "outputs": [
    {
     "name": "stderr",
     "output_type": "stream",
     "text": [
      "Exception in Tkinter callback\n",
      "Traceback (most recent call last):\n",
      "  File \"C:\\Users\\hp\\anaconda3\\lib\\tkinter\\__init__.py\", line 1892, in __call__\n",
      "    return self.func(*args)\n",
      "  File \"<ipython-input-3-18ed54da8305>\", line 18, in recomend\n",
      "    recom.drop(inp, axis=0, inplace=True)\n",
      "  File \"C:\\Users\\hp\\anaconda3\\lib\\site-packages\\pandas\\core\\frame.py\", line 4308, in drop\n",
      "    return super().drop(\n",
      "  File \"C:\\Users\\hp\\anaconda3\\lib\\site-packages\\pandas\\core\\generic.py\", line 4153, in drop\n",
      "    obj = obj._drop_axis(labels, axis, level=level, errors=errors)\n",
      "  File \"C:\\Users\\hp\\anaconda3\\lib\\site-packages\\pandas\\core\\generic.py\", line 4188, in _drop_axis\n",
      "    new_axis = axis.drop(labels, errors=errors)\n",
      "  File \"C:\\Users\\hp\\anaconda3\\lib\\site-packages\\pandas\\core\\indexes\\base.py\", line 5592, in drop\n",
      "    raise KeyError(f\"{labels[mask]} not found in axis\")\n",
      "KeyError: \"['Jungle Book, The (1994)'] not found in axis\"\n"
     ]
    }
   ],
   "source": [
    "#GUI Code\n",
    "app = tk.Tk()\n",
    "app.geometry('450x300')\n",
    "app.title('Recommendation System')\n",
    "\n",
    "listbox = tk.Listbox(app, height=15, width=30, bg='grey',fg='black')\n",
    "listbox.place(x=20,y=20)\n",
    "\n",
    "for i,t in enumerate(data['title'].unique()):\n",
    "    listbox.insert(i+1,t)\n",
    "    \n",
    "\n",
    "def recomend():\n",
    "    inp= listbox.get(listbox.curselection())\n",
    "    sim_df = pd.DataFrame(df_pivot.corrwith(df_pivot[inp]),columns=['Corr'])\n",
    "    sim_df['count'] = rate_count\n",
    "    recom = sim_df[(sim_df['count']>100)].sort_values('Corr',ascending=False)\n",
    "    recom.drop(inp, axis=0, inplace=True)\n",
    "    recommended = recom.index[:4]\n",
    "    result1.set(recommended[1])\n",
    "    result2.set(recommended[2])\n",
    "    result3.set(recommended[3])\n",
    "    #print(int)\n",
    "    #print(recommended)\n",
    "    \n",
    "    \n",
    "tk.Button(app, text='Recomended System',command=recomend).place(x=250,y=30)    \n",
    "\n",
    "result1 = tk.Variable(app)\n",
    "result1.set('Result1')\n",
    "tk.Label(app, textvariable=result1).place(x=250,y=100)\n",
    "\n",
    "result2 = tk.Variable(app)\n",
    "result2.set('Result2')\n",
    "tk.Label(app, textvariable=result2).place(x=250,y=130)\n",
    "\n",
    "result3 = tk.Variable(app)\n",
    "result3.set('Result3')\n",
    "tk.Label(app, textvariable=result3).place(x=250,y=160)\n",
    "\n",
    "app.mainloop()"
   ]
  },
  {
   "cell_type": "code",
   "execution_count": null,
   "id": "482dc604-fb0c-432a-b2d2-51a57c28df2d",
   "metadata": {},
   "outputs": [],
   "source": []
  }
 ],
 "metadata": {
  "kernelspec": {
   "display_name": "Python 3",
   "language": "python",
   "name": "python3"
  },
  "language_info": {
   "codemirror_mode": {
    "name": "ipython",
    "version": 3
   },
   "file_extension": ".py",
   "mimetype": "text/x-python",
   "name": "python",
   "nbconvert_exporter": "python",
   "pygments_lexer": "ipython3",
   "version": "3.8.8"
  }
 },
 "nbformat": 4,
 "nbformat_minor": 5
}
