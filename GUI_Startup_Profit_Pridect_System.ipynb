{
 "cells": [
  {
   "cell_type": "code",
   "execution_count": 9,
   "id": "5391593d-81d3-4d92-b443-362fdea33d41",
   "metadata": {},
   "outputs": [],
   "source": [
    "import pandas as pd\n",
    "import tkinter as tk\n",
    "from sklearn import preprocessing as pp\n",
    "import numpy as np"
   ]
  },
  {
   "cell_type": "code",
   "execution_count": 12,
   "id": "1297b5d6-c531-47dd-9f2b-32d21aecefdb",
   "metadata": {},
   "outputs": [
    {
     "name": "stdout",
     "output_type": "stream",
     "text": [
      "      R&D  Admin Market  California  Florida  New York\n",
      "0  150000  50000  50000           0        1         0\n",
      "      R&D  Admin Market  California  Florida  New York\n",
      "0  150000  50000  50000           0        0         1\n",
      "      R&D  Admin Market  California  Florida  New York\n",
      "0  150000  50000  50000           1        0         0\n"
     ]
    }
   ],
   "source": [
    "app = tk.Tk()\n",
    "app.geometry('460x400')\n",
    "app.title('Startup Profit Predictor Model')\n",
    "app.config(bg='white smoke')\n",
    "\n",
    "def operate():\n",
    "    v = []\n",
    "    rad = grad.get()\n",
    "    adm = gadm.get()\n",
    "    ms = gms.get()\n",
    "    cc = city.get()\n",
    "    c = ['California','Florida','New York']\n",
    "    for i in c:\n",
    "        if cc == i:\n",
    "            v.append(1)\n",
    "        else:\n",
    "            v.append(0)\n",
    "    model=pd.read_pickle('Stratup_Profit_Predict_Model.pkl')\n",
    "    query = pd.DataFrame({'R&D':[rad],'Admin':[adm],'Market':[ms],'California':[v[0]],'Florida':[v[1]],'New York':[v[2]]})\n",
    "    print(query)\n",
    "    rnd = pd.DataFrame(pp.PolynomialFeatures(3).fit_transform(query[['R&D']]),columns=['rnd0','rnd1','rnd2','rnd3'])\n",
    "    ms = pd.DataFrame(pp.PolynomialFeatures(3).fit_transform(query[['Market']]),columns=['ms0','ms1','ms2','ms3'])\n",
    "    df = pd.concat([query,rnd,ms],axis=1)\n",
    "    df.drop(['R&D','Market'], axis=1, inplace=True)\n",
    "    \n",
    "    \n",
    "    gprofit.set(np.round(model.predict(df)[0],2))\n",
    "    \n",
    "city = tk.Variable()\n",
    "grad = tk.Variable()\n",
    "gadm = tk.Variable()\n",
    "gms = tk.Variable()\n",
    "\n",
    "gprofit = tk.Variable()\n",
    "\n",
    "tk.Label(app, text='R&D Spend').place(x=30,y=30, width=100,height=30)\n",
    "tk.Entry(app, textvariable=grad).place(x=140,y=30, width=250,height=30)\n",
    "\n",
    "tk.Label(app, text='Administration').place(x=30,y=70, width=100,height=30)\n",
    "tk.Entry(app, textvariable=gadm).place(x=140,y=70, width=250,height=30)\n",
    "\n",
    "tk.Label(app, text='Marketing Spend').place(x=30,y=110, width=100,height=30)\n",
    "tk.Entry(app, textvariable=gms).place(x=140,y=110, width=250,height=30)\n",
    "\n",
    "tk.Label(app, text='State').place(x=30,y=150, width=60,height=30)\n",
    "tk.Radiobutton(app, text='California', variable=city, value='California').place(x=140,y=150, width=80,height=30)\n",
    "tk.Radiobutton(app, text='Florida', variable=city, value='Florida').place(x=222,y=150, width=80,height=30)\n",
    "tk.Radiobutton(app, text='New York', variable=city, value='New York').place(x=302,y=150, width=80,height=30)\n",
    "\n",
    "tk.Label(app, text='Predicted Profit').place(x=30,y=230, width=150,height=30)\n",
    "tk.Label(app, textvariable=gprofit).place(x=190,y=230, width=250,height=30)\n",
    "\n",
    "\n",
    "\n",
    "tk.Button(app, text='Predict', command=operate).place(x = 230,y=300, width=200,height=30)\n",
    "\n",
    "app.mainloop()"
   ]
  },
  {
   "cell_type": "code",
   "execution_count": null,
   "id": "e8c1460f-8a4c-4c6b-aa9f-d605a6e8f4e9",
   "metadata": {},
   "outputs": [],
   "source": []
  },
  {
   "cell_type": "code",
   "execution_count": null,
   "id": "402d9d51-92e3-44e9-8e56-84a8de8012f7",
   "metadata": {},
   "outputs": [],
   "source": []
  }
 ],
 "metadata": {
  "kernelspec": {
   "display_name": "Python 3",
   "language": "python",
   "name": "python3"
  },
  "language_info": {
   "codemirror_mode": {
    "name": "ipython",
    "version": 3
   },
   "file_extension": ".py",
   "mimetype": "text/x-python",
   "name": "python",
   "nbconvert_exporter": "python",
   "pygments_lexer": "ipython3",
   "version": "3.8.8"
  }
 },
 "nbformat": 4,
 "nbformat_minor": 5
}
